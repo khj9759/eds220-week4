{
 "cells": [
  {
   "cell_type": "code",
   "execution_count": 7,
   "id": "7dffa7b6-8da1-4bbe-94f3-24538ee8d100",
   "metadata": {
    "tags": []
   },
   "outputs": [],
   "source": [
    "import geopandas as gpd\n",
    "\n",
    "import matplotlib.pyplot as plt"
   ]
  },
  {
   "cell_type": "code",
   "execution_count": 8,
   "id": "9455159a-dc7d-4ff5-a440-884c16dd22d2",
   "metadata": {
    "tags": []
   },
   "outputs": [
    {
     "data": {
      "text/html": [
       "<div>\n",
       "<style scoped>\n",
       "    .dataframe tbody tr th:only-of-type {\n",
       "        vertical-align: middle;\n",
       "    }\n",
       "\n",
       "    .dataframe tbody tr th {\n",
       "        vertical-align: top;\n",
       "    }\n",
       "\n",
       "    .dataframe thead th {\n",
       "        text-align: right;\n",
       "    }\n",
       "</style>\n",
       "<table border=\"1\" class=\"dataframe\">\n",
       "  <thead>\n",
       "    <tr style=\"text-align: right;\">\n",
       "      <th></th>\n",
       "      <th>gbifID</th>\n",
       "      <th>species</th>\n",
       "      <th>state</th>\n",
       "      <th>individual</th>\n",
       "      <th>day</th>\n",
       "      <th>month</th>\n",
       "      <th>year</th>\n",
       "      <th>inst</th>\n",
       "      <th>collection</th>\n",
       "      <th>catalogNum</th>\n",
       "      <th>identified</th>\n",
       "      <th>geometry</th>\n",
       "    </tr>\n",
       "  </thead>\n",
       "  <tbody>\n",
       "    <tr>\n",
       "      <th>0</th>\n",
       "      <td>899953814</td>\n",
       "      <td>Sus scrofa</td>\n",
       "      <td>California</td>\n",
       "      <td>NaN</td>\n",
       "      <td>22.0</td>\n",
       "      <td>3.0</td>\n",
       "      <td>2014.0</td>\n",
       "      <td>iNaturalist</td>\n",
       "      <td>Observations</td>\n",
       "      <td>581956</td>\n",
       "      <td>edwardrooks</td>\n",
       "      <td>POINT (-121.53812 37.08846)</td>\n",
       "    </tr>\n",
       "    <tr>\n",
       "      <th>1</th>\n",
       "      <td>899951348</td>\n",
       "      <td>Sus scrofa</td>\n",
       "      <td>California</td>\n",
       "      <td>NaN</td>\n",
       "      <td>9.0</td>\n",
       "      <td>6.0</td>\n",
       "      <td>2007.0</td>\n",
       "      <td>iNaturalist</td>\n",
       "      <td>Observations</td>\n",
       "      <td>576047</td>\n",
       "      <td>Bruce Freeman</td>\n",
       "      <td>POINT (-120.54942 35.47354)</td>\n",
       "    </tr>\n",
       "    <tr>\n",
       "      <th>2</th>\n",
       "      <td>896560733</td>\n",
       "      <td>Sus scrofa</td>\n",
       "      <td>California</td>\n",
       "      <td>NaN</td>\n",
       "      <td>20.0</td>\n",
       "      <td>12.0</td>\n",
       "      <td>1937.0</td>\n",
       "      <td>MVZ</td>\n",
       "      <td>Hild</td>\n",
       "      <td>MVZ:Hild:195</td>\n",
       "      <td>Museum of Vertebrate Zoology, University of Ca...</td>\n",
       "      <td>POINT (-122.27063 37.87610)</td>\n",
       "    </tr>\n",
       "    <tr>\n",
       "      <th>3</th>\n",
       "      <td>896559958</td>\n",
       "      <td>Sus scrofa</td>\n",
       "      <td>California</td>\n",
       "      <td>NaN</td>\n",
       "      <td>1.0</td>\n",
       "      <td>4.0</td>\n",
       "      <td>1969.0</td>\n",
       "      <td>MVZ</td>\n",
       "      <td>Hild</td>\n",
       "      <td>MVZ:Hild:1213</td>\n",
       "      <td>Museum of Vertebrate Zoology, University of Ca...</td>\n",
       "      <td>POINT (-121.82297 38.44543)</td>\n",
       "    </tr>\n",
       "    <tr>\n",
       "      <th>4</th>\n",
       "      <td>896559722</td>\n",
       "      <td>Sus scrofa</td>\n",
       "      <td>California</td>\n",
       "      <td>NaN</td>\n",
       "      <td>1.0</td>\n",
       "      <td>1.0</td>\n",
       "      <td>1961.0</td>\n",
       "      <td>MVZ</td>\n",
       "      <td>Hild</td>\n",
       "      <td>MVZ:Hild:1004</td>\n",
       "      <td>Museum of Vertebrate Zoology, University of Ca...</td>\n",
       "      <td>POINT (-121.74559 38.54882)</td>\n",
       "    </tr>\n",
       "    <tr>\n",
       "      <th>...</th>\n",
       "      <td>...</td>\n",
       "      <td>...</td>\n",
       "      <td>...</td>\n",
       "      <td>...</td>\n",
       "      <td>...</td>\n",
       "      <td>...</td>\n",
       "      <td>...</td>\n",
       "      <td>...</td>\n",
       "      <td>...</td>\n",
       "      <td>...</td>\n",
       "      <td>...</td>\n",
       "      <td>...</td>\n",
       "    </tr>\n",
       "    <tr>\n",
       "      <th>1041</th>\n",
       "      <td>1024216143</td>\n",
       "      <td>Sus scrofa</td>\n",
       "      <td>California</td>\n",
       "      <td>NaN</td>\n",
       "      <td>24.0</td>\n",
       "      <td>8.0</td>\n",
       "      <td>2014.0</td>\n",
       "      <td>iNaturalist</td>\n",
       "      <td>Observations</td>\n",
       "      <td>848609</td>\n",
       "      <td>sea-kangaroo</td>\n",
       "      <td>POINT (-121.71341 37.34271)</td>\n",
       "    </tr>\n",
       "    <tr>\n",
       "      <th>1042</th>\n",
       "      <td>1024215805</td>\n",
       "      <td>Sus scrofa</td>\n",
       "      <td>California</td>\n",
       "      <td>NaN</td>\n",
       "      <td>24.0</td>\n",
       "      <td>8.0</td>\n",
       "      <td>2014.0</td>\n",
       "      <td>iNaturalist</td>\n",
       "      <td>Observations</td>\n",
       "      <td>847708</td>\n",
       "      <td>Donna Pomeroy</td>\n",
       "      <td>POINT (-121.71871 37.34467)</td>\n",
       "    </tr>\n",
       "    <tr>\n",
       "      <th>1043</th>\n",
       "      <td>1024215159</td>\n",
       "      <td>Sus scrofa</td>\n",
       "      <td>California</td>\n",
       "      <td>NaN</td>\n",
       "      <td>23.0</td>\n",
       "      <td>8.0</td>\n",
       "      <td>2014.0</td>\n",
       "      <td>iNaturalist</td>\n",
       "      <td>Observations</td>\n",
       "      <td>845949</td>\n",
       "      <td>Alyssa Semerdjian</td>\n",
       "      <td>POINT (-120.18419 35.39745)</td>\n",
       "    </tr>\n",
       "    <tr>\n",
       "      <th>1044</th>\n",
       "      <td>1019052419</td>\n",
       "      <td>Sus scrofa</td>\n",
       "      <td>California</td>\n",
       "      <td>2.0</td>\n",
       "      <td>18.0</td>\n",
       "      <td>9.0</td>\n",
       "      <td>1998.0</td>\n",
       "      <td>Borror Laboratory of Bioacoustics, Ohio State ...</td>\n",
       "      <td>Recordings</td>\n",
       "      <td>BLB30714</td>\n",
       "      <td>None</td>\n",
       "      <td>POINT (-119.55190 34.04810)</td>\n",
       "    </tr>\n",
       "    <tr>\n",
       "      <th>1045</th>\n",
       "      <td>1019052401</td>\n",
       "      <td>Sus scrofa</td>\n",
       "      <td>California</td>\n",
       "      <td>2.0</td>\n",
       "      <td>18.0</td>\n",
       "      <td>9.0</td>\n",
       "      <td>1998.0</td>\n",
       "      <td>Borror Laboratory of Bioacoustics, Ohio State ...</td>\n",
       "      <td>Recordings</td>\n",
       "      <td>BLB30713</td>\n",
       "      <td>None</td>\n",
       "      <td>POINT (-119.55190 34.04810)</td>\n",
       "    </tr>\n",
       "  </tbody>\n",
       "</table>\n",
       "<p>1046 rows × 12 columns</p>\n",
       "</div>"
      ],
      "text/plain": [
       "          gbifID     species       state  individual   day  month    year  \\\n",
       "0      899953814  Sus scrofa  California         NaN  22.0    3.0  2014.0   \n",
       "1      899951348  Sus scrofa  California         NaN   9.0    6.0  2007.0   \n",
       "2      896560733  Sus scrofa  California         NaN  20.0   12.0  1937.0   \n",
       "3      896559958  Sus scrofa  California         NaN   1.0    4.0  1969.0   \n",
       "4      896559722  Sus scrofa  California         NaN   1.0    1.0  1961.0   \n",
       "...          ...         ...         ...         ...   ...    ...     ...   \n",
       "1041  1024216143  Sus scrofa  California         NaN  24.0    8.0  2014.0   \n",
       "1042  1024215805  Sus scrofa  California         NaN  24.0    8.0  2014.0   \n",
       "1043  1024215159  Sus scrofa  California         NaN  23.0    8.0  2014.0   \n",
       "1044  1019052419  Sus scrofa  California         2.0  18.0    9.0  1998.0   \n",
       "1045  1019052401  Sus scrofa  California         2.0  18.0    9.0  1998.0   \n",
       "\n",
       "                                                   inst    collection  \\\n",
       "0                                           iNaturalist  Observations   \n",
       "1                                           iNaturalist  Observations   \n",
       "2                                                   MVZ          Hild   \n",
       "3                                                   MVZ          Hild   \n",
       "4                                                   MVZ          Hild   \n",
       "...                                                 ...           ...   \n",
       "1041                                        iNaturalist  Observations   \n",
       "1042                                        iNaturalist  Observations   \n",
       "1043                                        iNaturalist  Observations   \n",
       "1044  Borror Laboratory of Bioacoustics, Ohio State ...    Recordings   \n",
       "1045  Borror Laboratory of Bioacoustics, Ohio State ...    Recordings   \n",
       "\n",
       "         catalogNum                                         identified  \\\n",
       "0            581956                                        edwardrooks   \n",
       "1            576047                                      Bruce Freeman   \n",
       "2      MVZ:Hild:195  Museum of Vertebrate Zoology, University of Ca...   \n",
       "3     MVZ:Hild:1213  Museum of Vertebrate Zoology, University of Ca...   \n",
       "4     MVZ:Hild:1004  Museum of Vertebrate Zoology, University of Ca...   \n",
       "...             ...                                                ...   \n",
       "1041         848609                                       sea-kangaroo   \n",
       "1042         847708                                      Donna Pomeroy   \n",
       "1043         845949                                  Alyssa Semerdjian   \n",
       "1044       BLB30714                                               None   \n",
       "1045       BLB30713                                               None   \n",
       "\n",
       "                         geometry  \n",
       "0     POINT (-121.53812 37.08846)  \n",
       "1     POINT (-120.54942 35.47354)  \n",
       "2     POINT (-122.27063 37.87610)  \n",
       "3     POINT (-121.82297 38.44543)  \n",
       "4     POINT (-121.74559 38.54882)  \n",
       "...                           ...  \n",
       "1041  POINT (-121.71341 37.34271)  \n",
       "1042  POINT (-121.71871 37.34467)  \n",
       "1043  POINT (-120.18419 35.39745)  \n",
       "1044  POINT (-119.55190 34.04810)  \n",
       "1045  POINT (-119.55190 34.04810)  \n",
       "\n",
       "[1046 rows x 12 columns]"
      ]
     },
     "execution_count": 8,
     "metadata": {},
     "output_type": "execute_result"
    }
   ],
   "source": [
    "gpd.read_file('data/gbif_sus_scroga_california/gbif_sus_scroga_california.shp')"
   ]
  },
  {
   "cell_type": "markdown",
   "id": "69ce7b07-c96b-4eff-a2cf-d58e379339fa",
   "metadata": {},
   "source": [
    "## geopandas\n",
    "GeoPandas is a Python library that extends the pandas library by adding support for geospatial data. In this lesson we will introduce the geopandas library to work with vector data. We will also make our first map.\n",
    "\n",
    "To begin with, let’s import geopandas with its standard abbreviation gpd:"
   ]
  },
  {
   "cell_type": "code",
   "execution_count": 9,
   "id": "71ef633c-205f-4179-a3eb-e9ea11811392",
   "metadata": {
    "tags": []
   },
   "outputs": [],
   "source": [
    "# this is the library we will explore\n",
    "import geopandas as gpd\n",
    "\n",
    "# we will start using matplotlib for making maps\n",
    "import matplotlib.pyplot as plt"
   ]
  },
  {
   "cell_type": "markdown",
   "id": "147cda6c-f9ba-4d3e-8e5e-a2156262b330",
   "metadata": {},
   "source": [
    "## Data\n",
    "We will use simplified data about wild pig (*Sus Scrofa*) sightings in CA. \n",
    "Data is from Global Biodiversity Information Facility (GBIF).\n",
    "\n",
    "Read in the a shapefile using the `geopandas` function `gpd.read_file()`:"
   ]
  },
  {
   "cell_type": "code",
   "execution_count": 10,
   "id": "2d3c4756-1d4d-434b-bc24-8a40eb28074b",
   "metadata": {
    "tags": []
   },
   "outputs": [
    {
     "data": {
      "text/html": [
       "<div>\n",
       "<style scoped>\n",
       "    .dataframe tbody tr th:only-of-type {\n",
       "        vertical-align: middle;\n",
       "    }\n",
       "\n",
       "    .dataframe tbody tr th {\n",
       "        vertical-align: top;\n",
       "    }\n",
       "\n",
       "    .dataframe thead th {\n",
       "        text-align: right;\n",
       "    }\n",
       "</style>\n",
       "<table border=\"1\" class=\"dataframe\">\n",
       "  <thead>\n",
       "    <tr style=\"text-align: right;\">\n",
       "      <th></th>\n",
       "      <th>gbifID</th>\n",
       "      <th>species</th>\n",
       "      <th>state</th>\n",
       "      <th>individual</th>\n",
       "      <th>day</th>\n",
       "      <th>month</th>\n",
       "      <th>year</th>\n",
       "      <th>inst</th>\n",
       "      <th>collection</th>\n",
       "      <th>catalogNum</th>\n",
       "      <th>identified</th>\n",
       "      <th>geometry</th>\n",
       "    </tr>\n",
       "  </thead>\n",
       "  <tbody>\n",
       "    <tr>\n",
       "      <th>0</th>\n",
       "      <td>899953814</td>\n",
       "      <td>Sus scrofa</td>\n",
       "      <td>California</td>\n",
       "      <td>NaN</td>\n",
       "      <td>22.0</td>\n",
       "      <td>3.0</td>\n",
       "      <td>2014.0</td>\n",
       "      <td>iNaturalist</td>\n",
       "      <td>Observations</td>\n",
       "      <td>581956</td>\n",
       "      <td>edwardrooks</td>\n",
       "      <td>POINT (-121.53812 37.08846)</td>\n",
       "    </tr>\n",
       "    <tr>\n",
       "      <th>1</th>\n",
       "      <td>899951348</td>\n",
       "      <td>Sus scrofa</td>\n",
       "      <td>California</td>\n",
       "      <td>NaN</td>\n",
       "      <td>9.0</td>\n",
       "      <td>6.0</td>\n",
       "      <td>2007.0</td>\n",
       "      <td>iNaturalist</td>\n",
       "      <td>Observations</td>\n",
       "      <td>576047</td>\n",
       "      <td>Bruce Freeman</td>\n",
       "      <td>POINT (-120.54942 35.47354)</td>\n",
       "    </tr>\n",
       "    <tr>\n",
       "      <th>2</th>\n",
       "      <td>896560733</td>\n",
       "      <td>Sus scrofa</td>\n",
       "      <td>California</td>\n",
       "      <td>NaN</td>\n",
       "      <td>20.0</td>\n",
       "      <td>12.0</td>\n",
       "      <td>1937.0</td>\n",
       "      <td>MVZ</td>\n",
       "      <td>Hild</td>\n",
       "      <td>MVZ:Hild:195</td>\n",
       "      <td>Museum of Vertebrate Zoology, University of Ca...</td>\n",
       "      <td>POINT (-122.27063 37.87610)</td>\n",
       "    </tr>\n",
       "    <tr>\n",
       "      <th>3</th>\n",
       "      <td>896559958</td>\n",
       "      <td>Sus scrofa</td>\n",
       "      <td>California</td>\n",
       "      <td>NaN</td>\n",
       "      <td>1.0</td>\n",
       "      <td>4.0</td>\n",
       "      <td>1969.0</td>\n",
       "      <td>MVZ</td>\n",
       "      <td>Hild</td>\n",
       "      <td>MVZ:Hild:1213</td>\n",
       "      <td>Museum of Vertebrate Zoology, University of Ca...</td>\n",
       "      <td>POINT (-121.82297 38.44543)</td>\n",
       "    </tr>\n",
       "    <tr>\n",
       "      <th>4</th>\n",
       "      <td>896559722</td>\n",
       "      <td>Sus scrofa</td>\n",
       "      <td>California</td>\n",
       "      <td>NaN</td>\n",
       "      <td>1.0</td>\n",
       "      <td>1.0</td>\n",
       "      <td>1961.0</td>\n",
       "      <td>MVZ</td>\n",
       "      <td>Hild</td>\n",
       "      <td>MVZ:Hild:1004</td>\n",
       "      <td>Museum of Vertebrate Zoology, University of Ca...</td>\n",
       "      <td>POINT (-121.74559 38.54882)</td>\n",
       "    </tr>\n",
       "  </tbody>\n",
       "</table>\n",
       "</div>"
      ],
      "text/plain": [
       "      gbifID     species       state  individual   day  month    year  \\\n",
       "0  899953814  Sus scrofa  California         NaN  22.0    3.0  2014.0   \n",
       "1  899951348  Sus scrofa  California         NaN   9.0    6.0  2007.0   \n",
       "2  896560733  Sus scrofa  California         NaN  20.0   12.0  1937.0   \n",
       "3  896559958  Sus scrofa  California         NaN   1.0    4.0  1969.0   \n",
       "4  896559722  Sus scrofa  California         NaN   1.0    1.0  1961.0   \n",
       "\n",
       "          inst    collection     catalogNum  \\\n",
       "0  iNaturalist  Observations         581956   \n",
       "1  iNaturalist  Observations         576047   \n",
       "2          MVZ          Hild   MVZ:Hild:195   \n",
       "3          MVZ          Hild  MVZ:Hild:1213   \n",
       "4          MVZ          Hild  MVZ:Hild:1004   \n",
       "\n",
       "                                          identified  \\\n",
       "0                                        edwardrooks   \n",
       "1                                      Bruce Freeman   \n",
       "2  Museum of Vertebrate Zoology, University of Ca...   \n",
       "3  Museum of Vertebrate Zoology, University of Ca...   \n",
       "4  Museum of Vertebrate Zoology, University of Ca...   \n",
       "\n",
       "                      geometry  \n",
       "0  POINT (-121.53812 37.08846)  \n",
       "1  POINT (-120.54942 35.47354)  \n",
       "2  POINT (-122.27063 37.87610)  \n",
       "3  POINT (-121.82297 38.44543)  \n",
       "4  POINT (-121.74559 38.54882)  "
      ]
     },
     "execution_count": 10,
     "metadata": {},
     "output_type": "execute_result"
    }
   ],
   "source": [
    "# read the data\n",
    "pigs = gpd.read_file('data/gbif_sus_scroga_california/gbif_sus_scroga_california.shp')\n",
    "pigs.head()"
   ]
  },
  {
   "cell_type": "markdown",
   "id": "2e273fa0-c14f-481f-81f3-b98c9a649223",
   "metadata": {},
   "source": [
    "## `Geoseries` and `GeoDataFrame`\n",
    "Core data struture of GeoPandas is `geopandas.GeoDataFrame`\n",
    "`geopandas.GeoDataFrame` = think of it as a `pandas.GeoDataFrame` with a dedicated geometry column.\n",
    "The **geometry column** in a `gpd.GeoDataFrame` holds the geometry (point, polygon, etc) of each spatial feature. This column is og type `geopandas.GeoSeries`.\n",
    "The other non-geometry columns in the geodataframe are our usual pd.Series type."
   ]
  },
  {
   "cell_type": "code",
   "execution_count": null,
   "id": "e3e1cc14-f71f-4dcb-bc36-e58c1289c7ca",
   "metadata": {},
   "outputs": [],
   "source": [
    "# type of pgs dataframe\n",
    "print(type(pigs))\n",
    "\n",
    "# type of the geometry column \n",
    "print(type(pigs.geometry))\n",
    "\n",
    "#type of the gbifID column\n",
    "print(type(pigs.gbifID))"
   ]
  },
  {
   "cell_type": "markdown",
   "id": "7ba093e3-46b6-4e56-b511-ef62b895e30e",
   "metadata": {},
   "source": [
    "The new data type of the geometry column is also reflected when we look at the data types of the columns in the data frame:"
   ]
  },
  {
   "cell_type": "code",
   "execution_count": 18,
   "id": "b7e621f8-39d3-4abc-9456-b0de2fcbe702",
   "metadata": {
    "tags": []
   },
   "outputs": [
    {
     "data": {
      "text/plain": [
       "gbifID           int64\n",
       "species         object\n",
       "state           object\n",
       "individual     float64\n",
       "day            float64\n",
       "month          float64\n",
       "year           float64\n",
       "inst            object\n",
       "collection      object\n",
       "catalogNum      object\n",
       "identified      object\n",
       "geometry      geometry\n",
       "dtype: object"
      ]
     },
     "execution_count": 18,
     "metadata": {},
     "output_type": "execute_result"
    }
   ],
   "source": [
    "# check the data type of the columns\n",
    "pigs.dtypes"
   ]
  },
  {
   "cell_type": "markdown",
   "id": "3dfa164a-081a-44aa-9ab8-5be207a636fb",
   "metadata": {},
   "source": [
    "We can also check the type of each element in the geometry column using the geom_type attribute of a gpd.GeoDataFrame:"
   ]
  },
  {
   "cell_type": "code",
   "execution_count": 11,
   "id": "d49227c0-0beb-4a7a-a0d2-70667c424585",
   "metadata": {
    "tags": []
   },
   "outputs": [
    {
     "data": {
      "text/plain": [
       "0       Point\n",
       "1       Point\n",
       "2       Point\n",
       "3       Point\n",
       "4       Point\n",
       "        ...  \n",
       "1041    Point\n",
       "1042    Point\n",
       "1043    Point\n",
       "1044    Point\n",
       "1045    Point\n",
       "Length: 1046, dtype: object"
      ]
     },
     "execution_count": 11,
     "metadata": {},
     "output_type": "execute_result"
    }
   ],
   "source": [
    "pigs.geom_type"
   ]
  },
  {
   "cell_type": "markdown",
   "id": "6ce36c90-68d7-4c12-aa24-365b47f28934",
   "metadata": {},
   "source": [
    "## Geometric information\n",
    "Two other important attributes of a gpd.GeoDataFrame are its coordinate reference system (CRS) and its extent.\n",
    "We can think of the coordinate reference system (CRS) as the instructions to locate each feature in our dataframe on the surface of the Earth. We access the CRS of a gpd.GeoDataFrame using the crs attribute:"
   ]
  },
  {
   "cell_type": "code",
   "execution_count": 12,
   "id": "7c961f85-01d5-4289-a8ae-4b6f518841bc",
   "metadata": {
    "tags": []
   },
   "outputs": [
    {
     "data": {
      "text/plain": [
       "<Geographic 2D CRS: EPSG:4326>\n",
       "Name: WGS 84\n",
       "Axis Info [ellipsoidal]:\n",
       "- Lat[north]: Geodetic latitude (degree)\n",
       "- Lon[east]: Geodetic longitude (degree)\n",
       "Area of Use:\n",
       "- name: World\n",
       "- bounds: (-180.0, -90.0, 180.0, 90.0)\n",
       "Datum: World Geodetic System 1984\n",
       "- Ellipsoid: WGS 84\n",
       "- Prime Meridian: Greenwich"
      ]
     },
     "execution_count": 12,
     "metadata": {},
     "output_type": "execute_result"
    }
   ],
   "source": [
    "# access the CRS of the GeoDataFrame\n",
    "pigs.crs"
   ]
  },
  {
   "cell_type": "markdown",
   "id": "dad713fb-49ce-4793-8d68-428b1eeb215b",
   "metadata": {},
   "source": [
    "The **extent** of the geo-dataframe is the bounding box covering all the features in our geo-dataframe. This is formed by finding the points that are furthest west, east, south and north."
   ]
  },
  {
   "cell_type": "code",
   "execution_count": 17,
   "id": "846659a4-9346-41b3-823e-a750c906c749",
   "metadata": {
    "tags": []
   },
   "outputs": [
    {
     "ename": "FileNotFoundError",
     "evalue": "[Errno 2] No such file or directory: 'https://carmengg.github.io/eds-220-book/images/lesson-8-geopandas/spatial-extent.png'",
     "output_type": "error",
     "traceback": [
      "\u001b[0;31m---------------------------------------------------------------------------\u001b[0m",
      "\u001b[0;31mFileNotFoundError\u001b[0m                         Traceback (most recent call last)",
      "\u001b[0;32m/tmp/ipykernel_3426206/4028681399.py\u001b[0m in \u001b[0;36m<module>\u001b[0;34m\u001b[0m\n\u001b[1;32m      1\u001b[0m \u001b[0;32mfrom\u001b[0m \u001b[0mPIL\u001b[0m \u001b[0;32mimport\u001b[0m \u001b[0mImage\u001b[0m\u001b[0;34m\u001b[0m\u001b[0;34m\u001b[0m\u001b[0m\n\u001b[0;32m----> 2\u001b[0;31m \u001b[0mmyImage\u001b[0m \u001b[0;34m=\u001b[0m \u001b[0mImage\u001b[0m\u001b[0;34m.\u001b[0m\u001b[0mopen\u001b[0m\u001b[0;34m(\u001b[0m\u001b[0;34m\"https://carmengg.github.io/eds-220-book/images/lesson-8-geopandas/spatial-extent.png\"\u001b[0m\u001b[0;34m)\u001b[0m\u001b[0;34m\u001b[0m\u001b[0;34m\u001b[0m\u001b[0m\n\u001b[0m\u001b[1;32m      3\u001b[0m \u001b[0mmyImage\u001b[0m\u001b[0;34m.\u001b[0m\u001b[0mshow\u001b[0m\u001b[0;34m(\u001b[0m\u001b[0;34m)\u001b[0m\u001b[0;34m\u001b[0m\u001b[0;34m\u001b[0m\u001b[0m\n",
      "\u001b[0;32m/opt/anaconda3/lib/python3.9/site-packages/PIL/Image.py\u001b[0m in \u001b[0;36mopen\u001b[0;34m(fp, mode, formats)\u001b[0m\n\u001b[1;32m   3090\u001b[0m \u001b[0;34m\u001b[0m\u001b[0m\n\u001b[1;32m   3091\u001b[0m     \u001b[0;32mif\u001b[0m \u001b[0mfilename\u001b[0m\u001b[0;34m:\u001b[0m\u001b[0;34m\u001b[0m\u001b[0;34m\u001b[0m\u001b[0m\n\u001b[0;32m-> 3092\u001b[0;31m         \u001b[0mfp\u001b[0m \u001b[0;34m=\u001b[0m \u001b[0mbuiltins\u001b[0m\u001b[0;34m.\u001b[0m\u001b[0mopen\u001b[0m\u001b[0;34m(\u001b[0m\u001b[0mfilename\u001b[0m\u001b[0;34m,\u001b[0m \u001b[0;34m\"rb\"\u001b[0m\u001b[0;34m)\u001b[0m\u001b[0;34m\u001b[0m\u001b[0;34m\u001b[0m\u001b[0m\n\u001b[0m\u001b[1;32m   3093\u001b[0m         \u001b[0mexclusive_fp\u001b[0m \u001b[0;34m=\u001b[0m \u001b[0;32mTrue\u001b[0m\u001b[0;34m\u001b[0m\u001b[0;34m\u001b[0m\u001b[0m\n\u001b[1;32m   3094\u001b[0m \u001b[0;34m\u001b[0m\u001b[0m\n",
      "\u001b[0;31mFileNotFoundError\u001b[0m: [Errno 2] No such file or directory: 'https://carmengg.github.io/eds-220-book/images/lesson-8-geopandas/spatial-extent.png'"
     ]
    }
   ],
   "source": [
    "from PIL import Image \n",
    "myImage = Image.open(\"https://carmengg.github.io/eds-220-book/images/lesson-8-geopandas/spatial-extent.png\")\n",
    "myImage.show()"
   ]
  },
  {
   "cell_type": "code",
   "execution_count": 16,
   "id": "6c6918e7-835b-49e2-8741-dcc9ea3e6915",
   "metadata": {
    "tags": []
   },
   "outputs": [
    {
     "data": {
      "text/plain": [
       "array([-124.29448 ,   32.593433, -115.4356  ,   40.934296])"
      ]
     },
     "execution_count": 16,
     "metadata": {},
     "output_type": "execute_result"
    }
   ],
   "source": [
    "pigs.total_bounds"
   ]
  },
  {
   "cell_type": "markdown",
   "id": "4bd6fabb-96e8-44e5-94ea-5e975c36aa11",
   "metadata": {},
   "source": [
    "# Data wrangling\n",
    "Geopandas is built on top of `pandas`, so (almost) everthing we have learned about wrangling pandas data, still applies here\n",
    "\n",
    "**Example**\n",
    "We only want to use recent data fro the wild pig observations."
   ]
  },
  {
   "cell_type": "code",
   "execution_count": 20,
   "id": "2faba327-63fe-442e-b3f9-7959da46613d",
   "metadata": {
    "tags": []
   },
   "outputs": [
    {
     "data": {
      "text/plain": [
       "1818.0     31\n",
       "1910.0      1\n",
       "1925.0      1\n",
       "1927.0      4\n",
       "1929.0      3\n",
       "         ... \n",
       "2019.0    101\n",
       "2020.0    159\n",
       "2021.0    164\n",
       "2022.0    185\n",
       "2023.0     98\n",
       "Name: year, Length: 61, dtype: int64"
      ]
     },
     "execution_count": 20,
     "metadata": {},
     "output_type": "execute_result"
    }
   ],
   "source": [
    "# what years do we have?\n",
    "pigs.year.value_counts().sort_index()"
   ]
  },
  {
   "cell_type": "markdown",
   "id": "bd71399d-209b-4662-bb36-b1f5f83a932b",
   "metadata": {},
   "source": [
    "We can use our usual data selection"
   ]
  },
  {
   "cell_type": "code",
   "execution_count": 24,
   "id": "be7c00af-27d5-40d0-9cda-7a9af00e4658",
   "metadata": {
    "tags": []
   },
   "outputs": [
    {
     "name": "stdout",
     "output_type": "stream",
     "text": [
      "1046\n",
      "606\n"
     ]
    },
    {
     "data": {
      "text/html": [
       "<div>\n",
       "<style scoped>\n",
       "    .dataframe tbody tr th:only-of-type {\n",
       "        vertical-align: middle;\n",
       "    }\n",
       "\n",
       "    .dataframe tbody tr th {\n",
       "        vertical-align: top;\n",
       "    }\n",
       "\n",
       "    .dataframe thead th {\n",
       "        text-align: right;\n",
       "    }\n",
       "</style>\n",
       "<table border=\"1\" class=\"dataframe\">\n",
       "  <thead>\n",
       "    <tr style=\"text-align: right;\">\n",
       "      <th></th>\n",
       "      <th>gbifID</th>\n",
       "      <th>species</th>\n",
       "      <th>state</th>\n",
       "      <th>individual</th>\n",
       "      <th>day</th>\n",
       "      <th>month</th>\n",
       "      <th>year</th>\n",
       "      <th>inst</th>\n",
       "      <th>collection</th>\n",
       "      <th>catalogNum</th>\n",
       "      <th>identified</th>\n",
       "      <th>geometry</th>\n",
       "    </tr>\n",
       "  </thead>\n",
       "  <tbody>\n",
       "    <tr>\n",
       "      <th>61</th>\n",
       "      <td>4424675671</td>\n",
       "      <td>Sus scrofa</td>\n",
       "      <td>California</td>\n",
       "      <td>NaN</td>\n",
       "      <td>23.0</td>\n",
       "      <td>9.0</td>\n",
       "      <td>2023.0</td>\n",
       "      <td>iNaturalist</td>\n",
       "      <td>Observations</td>\n",
       "      <td>186357811</td>\n",
       "      <td>madamcoyote</td>\n",
       "      <td>POINT (-124.28580 40.32482)</td>\n",
       "    </tr>\n",
       "    <tr>\n",
       "      <th>62</th>\n",
       "      <td>4424357894</td>\n",
       "      <td>Sus scrofa</td>\n",
       "      <td>California</td>\n",
       "      <td>NaN</td>\n",
       "      <td>6.0</td>\n",
       "      <td>10.0</td>\n",
       "      <td>2023.0</td>\n",
       "      <td>iNaturalist</td>\n",
       "      <td>Observations</td>\n",
       "      <td>186474363</td>\n",
       "      <td>skullroy</td>\n",
       "      <td>POINT (-120.82724 35.34895)</td>\n",
       "    </tr>\n",
       "    <tr>\n",
       "      <th>63</th>\n",
       "      <td>4424357588</td>\n",
       "      <td>Sus scrofa</td>\n",
       "      <td>California</td>\n",
       "      <td>NaN</td>\n",
       "      <td>5.0</td>\n",
       "      <td>10.0</td>\n",
       "      <td>2023.0</td>\n",
       "      <td>iNaturalist</td>\n",
       "      <td>Observations</td>\n",
       "      <td>186333783</td>\n",
       "      <td>Brian Ahern</td>\n",
       "      <td>POINT (-121.71683 37.34602)</td>\n",
       "    </tr>\n",
       "    <tr>\n",
       "      <th>64</th>\n",
       "      <td>4424288359</td>\n",
       "      <td>Sus scrofa</td>\n",
       "      <td>California</td>\n",
       "      <td>NaN</td>\n",
       "      <td>7.0</td>\n",
       "      <td>10.0</td>\n",
       "      <td>2023.0</td>\n",
       "      <td>iNaturalist</td>\n",
       "      <td>Observations</td>\n",
       "      <td>186602594</td>\n",
       "      <td>Steph</td>\n",
       "      <td>POINT (-119.62832 37.28900)</td>\n",
       "    </tr>\n",
       "    <tr>\n",
       "      <th>65</th>\n",
       "      <td>4424285723</td>\n",
       "      <td>Sus scrofa</td>\n",
       "      <td>California</td>\n",
       "      <td>NaN</td>\n",
       "      <td>5.0</td>\n",
       "      <td>10.0</td>\n",
       "      <td>2023.0</td>\n",
       "      <td>iNaturalist</td>\n",
       "      <td>Observations</td>\n",
       "      <td>186479844</td>\n",
       "      <td>natleecrockett</td>\n",
       "      <td>POINT (-121.77317 37.50025)</td>\n",
       "    </tr>\n",
       "  </tbody>\n",
       "</table>\n",
       "</div>"
      ],
      "text/plain": [
       "        gbifID     species       state  individual   day  month    year  \\\n",
       "61  4424675671  Sus scrofa  California         NaN  23.0    9.0  2023.0   \n",
       "62  4424357894  Sus scrofa  California         NaN   6.0   10.0  2023.0   \n",
       "63  4424357588  Sus scrofa  California         NaN   5.0   10.0  2023.0   \n",
       "64  4424288359  Sus scrofa  California         NaN   7.0   10.0  2023.0   \n",
       "65  4424285723  Sus scrofa  California         NaN   5.0   10.0  2023.0   \n",
       "\n",
       "           inst    collection catalogNum      identified  \\\n",
       "61  iNaturalist  Observations  186357811     madamcoyote   \n",
       "62  iNaturalist  Observations  186474363        skullroy   \n",
       "63  iNaturalist  Observations  186333783     Brian Ahern   \n",
       "64  iNaturalist  Observations  186602594           Steph   \n",
       "65  iNaturalist  Observations  186479844  natleecrockett   \n",
       "\n",
       "                       geometry  \n",
       "61  POINT (-124.28580 40.32482)  \n",
       "62  POINT (-120.82724 35.34895)  \n",
       "63  POINT (-121.71683 37.34602)  \n",
       "64  POINT (-119.62832 37.28900)  \n",
       "65  POINT (-121.77317 37.50025)  "
      ]
     },
     "execution_count": 24,
     "metadata": {},
     "output_type": "execute_result"
    }
   ],
   "source": [
    "# select data from 2020 onwards\n",
    "pigs_recent = pigs[pigs.year>=2020]\n",
    "\n",
    "# print length of original dataframe\n",
    "print(len(pigs))\n",
    "\n",
    "#print length of subset\n",
    "print(len(pigs_recent))\n",
    "pigs_recent.head()\n"
   ]
  },
  {
   "cell_type": "markdown",
   "id": "3f252a45-2d13-43d5-808e-c276ebce5d5f",
   "metadata": {},
   "source": [
    "## Plotting\n",
    "###`plot()`\n",
    "`gpd.GeoDataFrame` has a `plot()` method that we can call directly to create a quick view of the data.\n",
    "The geospatial information will be automatically used to reate the axes of the plot\n",
    "\n",
    "**Example**\n",
    "This is a quick look at our recent pigs data:"
   ]
  },
  {
   "cell_type": "code",
   "execution_count": 25,
   "id": "2364839a-488f-455c-9d79-a559bdb3ea96",
   "metadata": {
    "tags": []
   },
   "outputs": [
    {
     "data": {
      "text/plain": [
       "<AxesSubplot:>"
      ]
     },
     "execution_count": 25,
     "metadata": {},
     "output_type": "execute_result"
    },
    {
     "data": {
      "image/png": "[encoded data removed]",
      "text/plain": [
       "<Figure size 640x480 with 1 Axes>"
      ]
     },
     "metadata": {},
     "output_type": "display_data"
    }
   ],
   "source": [
    "pigs_recent.plot()"
   ]
  },
  {
   "cell_type": "markdown",
   "id": "9cb632a8-f2c1-4f45-a846-e9cc30fb7feb",
   "metadata": {},
   "source": [
    "### `metplotlib`'s `fig` and `ax`\n",
    "We use `matplotlib` to create more complex, customized graphs. In particular, maps.\n",
    "We can interact with `matplotlib` via its `pyplot` interface, which we imported as\n",
    "\n",
    "```python\n",
    "import matplotlib.pyplot as plt\n",
    "```\n",
    "\n",
    "Matplotlib graphs the data in a **figure** which cab have one or more **axes**.\n",
    "The axis in *only* the area specifyed by the x-y axis and what is plotted in it.\n",
    "\n",
    "To create a new blank figure:\n",
    "\n",
    "Initialize a new figure and axes by calling pyplot’s `subplots()` function, and\n",
    "show the graph using `plt.show()``:"
   ]
  },
  {
   "cell_type": "code",
   "execution_count": 26,
   "id": "6b4a7ed3-8c24-4044-b393-3d51ef7f0b94",
   "metadata": {
    "tags": []
   },
   "outputs": [
    {
     "data": {
      "image/png": "[encoded data removed]",
      "text/plain": [
       "<Figure size 640x480 with 1 Axes>"
      ]
     },
     "metadata": {},
     "output_type": "display_data"
    }
   ],
   "source": [
    "# create a blank figure (fig) with an empty axis (ax)\n",
    "fig, ax = plt.subplots()\n",
    "\n",
    "# display figure\n",
    "plt.show()"
   ]
  },
  {
   "cell_type": "markdown",
   "id": "3676662a-fc10-4295-abbe-538d2af3200a",
   "metadata": {},
   "source": [
    "## Adding a layer\n",
    "When using `matplotlib`, it can be useful to think of creating a plot as adding layers to an axis. \n",
    "The general syntax to plot a datafram `df` onto an axis is:\n",
    "\n",
    "```python\n",
    "#create a new figure\n",
    "fig, ax = plt.subplots()\n",
    "\n",
    "#plot df on the ax axis\n",
    "df.plot(ax=ax,\n",
    "       ...) # other arguments for plot function\n",
    "\n",
    "# display figure\n",
    "plt.show()\n",
    "```\n",
    "\n",
    "**Example**\n",
    "The first layer we want to add to our axis is the `pigs_recent` point data. We can plot our data using matplotlib like this:"
   ]
  },
  {
   "cell_type": "code",
   "execution_count": 27,
   "id": "76f87e7b-20e3-4c41-bcc6-774a67675cdd",
   "metadata": {
    "tags": []
   },
   "outputs": [
    {
     "data": {
      "image/png": "[encoded data removed]",
      "text/plain": [
       "<Figure size 640x480 with 1 Axes>"
      ]
     },
     "metadata": {},
     "output_type": "display_data"
    }
   ],
   "source": [
    "# create a new figure and axis\n",
    "fig, ax= plt.subplots()\n",
    "\n",
    "# add pigs point plot to our figures's axis\n",
    "pigs_recent.plot(ax=ax)\n",
    "\n",
    "#display figure\n",
    "plt.show()"
   ]
  },
  {
   "cell_type": "markdown",
   "id": "d1a5b6b3-104a-406f-aae6-6e1bb1f40e83",
   "metadata": {},
   "source": [
    "## Customization\n",
    "\n",
    "Matplotlib allows for a lot of customization.\n",
    "Some can be done directly in the `plot()` function (like we did with plotting pandas dataframe), while other is done by updating attributes from the axis as `ax`.\n",
    "\n",
    "**Example**\n",
    "\n",
    "Some basic customization for our pigs data could looke like this:"
   ]
  },
  {
   "cell_type": "code",
   "execution_count": 28,
   "id": "018b09b5-e731-46c4-9fbf-7b03415ebca2",
   "metadata": {
    "tags": []
   },
   "outputs": [
    {
     "data": {
      "image/png": "[encoded data removed]",
      "text/plain": [
       "<Figure size 640x480 with 1 Axes>"
      ]
     },
     "metadata": {},
     "output_type": "display_data"
    }
   ],
   "source": [
    "# initialize empty figure\n",
    "fig, ax = plt.subplots()\n",
    "\n",
    "# add data to axis\n",
    "# notice customization happens as arguments in plot()\n",
    "pigs_recent.plot(ax=ax,\n",
    "                 alpha=0.5,\n",
    "                 color='brown'\n",
    "                 )\n",
    "\n",
    "# update axis \n",
    "# customization separate from the data plotting\n",
    "ax.set_title('Reported \"Sus scrofa\" sightings in CA (2020-2023)')\n",
    "ax.set_xlabel('Longitude')\n",
    "ax.set_ylabel('Latitude')\n",
    "\n",
    "# display figure\n",
    "plt.show()"
   ]
  },
  {
   "cell_type": "markdown",
   "id": "d955f76d-5eef-449c-9ed9-3554bad50b12",
   "metadata": {},
   "source": [
    "## Excercise\n",
    "1. open the CA boundary shapefile and store as ca_boundary variable. How many features does it have? \n",
    "2. Add it to the pig sightings graph so that the CA boundary appears behind the points. "
   ]
  },
  {
   "cell_type": "code",
   "execution_count": 32,
   "id": "d516e40f-ce45-4937-90fa-1ed2e875f4b8",
   "metadata": {
    "tags": []
   },
   "outputs": [
    {
     "data": {
      "text/plain": [
       "array([-124.48201686,   32.52883674, -114.13122248,   42.00950827])"
      ]
     },
     "execution_count": 32,
     "metadata": {},
     "output_type": "execute_result"
    }
   ],
   "source": [
    "ca_boundary=gpd.read_file('data/ca-boundary/ca-boundary.shp')\n",
    "ca_boundary.head()"
   ]
  },
  {
   "cell_type": "code",
   "execution_count": 38,
   "id": "4f2536ba-bc70-43d3-b98e-72bb8e28e7c8",
   "metadata": {
    "tags": []
   },
   "outputs": [
    {
     "data": {
      "text/plain": [
       "0    MultiPolygon\n",
       "dtype: object"
      ]
     },
     "execution_count": 38,
     "metadata": {},
     "output_type": "execute_result"
    }
   ],
   "source": [
    "# geom_type will show what kind of vector data is stored in each feature of the geometry column\n",
    "ca_boundary.geom_type"
   ]
  },
  {
   "cell_type": "code",
   "execution_count": 39,
   "id": "92ce437b-35d7-4ec4-85dc-10e925a32970",
   "metadata": {
    "tags": []
   },
   "outputs": [
    {
     "data": {
      "text/plain": [
       "0       Point\n",
       "1       Point\n",
       "2       Point\n",
       "3       Point\n",
       "4       Point\n",
       "        ...  \n",
       "1041    Point\n",
       "1042    Point\n",
       "1043    Point\n",
       "1044    Point\n",
       "1045    Point\n",
       "Length: 1046, dtype: object"
      ]
     },
     "execution_count": 39,
     "metadata": {},
     "output_type": "execute_result"
    }
   ],
   "source": [
    "pigs.geom_type"
   ]
  },
  {
   "cell_type": "code",
   "execution_count": 40,
   "id": "bc0b32e1-6a4e-4647-a3fe-26bf2a29b7c7",
   "metadata": {
    "tags": []
   },
   "outputs": [
    {
     "data": {
      "image/png": "[encoded data removed]",
      "text/plain": [
       "<Figure size 640x480 with 1 Axes>"
      ]
     },
     "metadata": {},
     "output_type": "display_data"
    }
   ],
   "source": [
    "# create a new figure and axis\n",
    "fig, ax= plt.subplots()\n",
    "\n",
    "# add ca_boundary plot to our figures's axis\n",
    "ca_boundary.plot(ax=ax)\n",
    "\n",
    "# add pigs point plot to our figures's axis\n",
    "pigs_recent.plot(ax=ax,\n",
    "                 alpha=0.5,\n",
    "                 color='brown'\n",
    "                 )\n",
    "\n",
    "# customization separate from the data plotting\n",
    "ax.set_title('Reported \"Pigs\" sightings in CA')\n",
    "ax.set_xlabel('Longitude')\n",
    "ax.set_ylabel('Latitude')\n",
    "\n",
    "#display figure\n",
    "plt.show()"
   ]
  },
  {
   "cell_type": "code",
   "execution_count": null,
   "id": "d883bdb9-3514-4851-a391-cb0f4a25f1e9",
   "metadata": {},
   "outputs": [],
   "source": []
  }
 ],
 "metadata": {
  "kernelspec": {
   "display_name": "Anaconda 3 (Base)",
   "language": "python",
   "name": "base"
  },
  "language_info": {
   "codemirror_mode": {
    "name": "ipython",
    "version": 3
   },
   "file_extension": ".py",
   "mimetype": "text/x-python",
   "name": "python",
   "nbconvert_exporter": "python",
   "pygments_lexer": "ipython3",
   "version": "3.9.13"
  }
 },
 "nbformat": 4,
 "nbformat_minor": 5
}
